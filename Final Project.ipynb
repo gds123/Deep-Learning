{
 "cells": [
  {
   "cell_type": "code",
   "execution_count": 26,
   "metadata": {},
   "outputs": [
    {
     "name": "stderr",
     "output_type": "stream",
     "text": [
      "/home/michael/Documents/deep_learning/venv/lib/python3.6/importlib/_bootstrap.py:219: RuntimeWarning: compiletime version 3.5 of module 'tensorflow.python.framework.fast_tensor_util' does not match runtime version 3.6\n",
      "  return f(*args, **kwds)\n"
     ]
    }
   ],
   "source": [
    "# import tensorflow as tf\n",
    "import pandas as pd\n",
    "import numpy as np\n",
    "import gzip\n",
    "import simplejson"
   ]
  },
  {
   "cell_type": "code",
   "execution_count": 31,
   "metadata": {},
   "outputs": [
    {
     "name": "stdout",
     "output_type": "stream",
     "text": [
      "{'productId': 'product/productId', 'userId': 'review/userId', 'profileName': 'review/profileName', 'helpfulness': 'review/helpfulness', 'score': 'review/score', 'time': 'review/time', 'summary': 'review/summary'}\n",
      "B003AI2VGA\n",
      "A141HP4LYPWMSR\n"
     ]
    }
   ],
   "source": [
    "def parse(filename):\n",
    "    f = gzip.open(filename, 'r')\n",
    "    entry = {}\n",
    "    for l in f:\n",
    "        l = str(l.strip())\n",
    "        colonPos = l.find(':')\n",
    "        if colonPos == -1:\n",
    "            yield entry\n",
    "            entry = {}\n",
    "            continue\n",
    "        eName = l[:colonPos][2:]\n",
    "        rest = l[colonPos+2:-1]\n",
    "        entry[eName] = rest\n",
    "    yield entry\n",
    "\n",
    "\n",
    "def get_n_movies(n):\n",
    "    for i in range(n):\n",
    "        print(simplejson.dumps(next(parse(\"data/movies.txt.gz\"))))\n",
    "\n",
    "\n",
    "keys = {i[i.find('/') + 1:]: i for i in [\"product/productId\",\n",
    "                                         \"review/userId\",\n",
    "                                         \"review/profileName\",\n",
    "                                         \"review/helpfulness\",\n",
    "                                         \"review/score\",\n",
    "                                         \"review/time\", \"review/summary\"]}\n",
    "\n",
    "movie = next(parse(\"data/movies.txt.gz\"))\n",
    "\n",
    "print(movie[keys['productId']])\n",
    "print(movie[keys['userId']])"
   ]
  },
  {
   "cell_type": "code",
   "execution_count": null,
   "metadata": {},
   "outputs": [],
   "source": []
  }
 ],
 "metadata": {
  "kernelspec": {
   "display_name": "Python 3",
   "language": "python",
   "name": "python3"
  },
  "language_info": {
   "codemirror_mode": {
    "name": "ipython",
    "version": 3
   },
   "file_extension": ".py",
   "mimetype": "text/x-python",
   "name": "python",
   "nbconvert_exporter": "python",
   "pygments_lexer": "ipython3",
   "version": "3.6.3"
  }
 },
 "nbformat": 4,
 "nbformat_minor": 2
}
