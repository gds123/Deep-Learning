{
 "cells": [
  {
   "cell_type": "code",
   "execution_count": 32,
   "metadata": {},
   "outputs": [],
   "source": [
    "# import tensorflow as tf\n",
    "import pandas as pd\n",
    "import numpy as np\n",
    "import gzip\n",
    "import simplejson"
   ]
  },
  {
   "cell_type": "code",
   "execution_count": null,
   "metadata": {},
   "outputs": [
    {
     "name": "stdout",
     "output_type": "stream",
     "text": [
           "{'product/productId': 'B004FM2ENU', 'review/userId': 'AUE2FETR0B2SW', 'review/profileName': 'Joseph Baranowski', 'review/helpfulness': '0/0', 'review/score': '5.0', 'review/time': '1331856000', 'review/summary': 'Great Series!!!', 'review/text': \"What a Great Series!!! We watched Season 2 and was so imnpressed that had to buy Season 1! Can't wait to see Season 3! Sceanry, actors and story line all work so well together.\"}"
     ]
    }
   ],
   "source": [
    "\n",
    "keys = {i[i.find('/') + 1:]: i for i in [\"product/productId\",\n",
    "                                         \"review/userId\",\n",
    "                                         \"review/profileName\",\n",
    "                                         \"review/helpfulness\",\n",
    "                                         \"review/score\",\n",
    "                                         \"review/time\",\n",
    "                                         \"review/summary\"]}\n",
    "\n",
    "\n",
    "def parse(filename):\n",
    "    f = gzip.open(filename, 'r')\n",
    "    entry = {}\n",
    "    for l in f:\n",
    "        l = str(l.strip())\n",
    "        colonPos = l.find(':')\n",
    "        if colonPos == -1:\n",
    "            yield entry\n",
    "            entry = {}\n",
    "            continue\n",
    "        eName = l[:colonPos][2:]\n",
    "        rest = l[colonPos+2:-1]\n",
    "        entry[eName] = rest\n",
    "    yield entry\n",
    "    \n",
    "\n",
    "for i in parse(\"data/movies.txt.gz\"):\n",
    "    print(i)"
   ]
  },
  {
   "cell_type": "code",
   "execution_count": null,
   "metadata": {},
   "outputs": [],
   "source": []
  }
 ],
 "metadata": {
  "kernelspec": {
   "display_name": "Python 3",
   "language": "python",
   "name": "python3"
  },
  "language_info": {
   "codemirror_mode": {
    "name": "ipython",
    "version": 3
   },
   "file_extension": ".py",
   "mimetype": "text/x-python",
   "name": "python",
   "nbconvert_exporter": "python",
   "pygments_lexer": "ipython3",
   "version": "3.6.3"
  }
 },
 "nbformat": 4,
 "nbformat_minor": 2
}
