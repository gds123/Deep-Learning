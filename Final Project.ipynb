{
 "cells": [
  {
   "cell_type": "code",
   "execution_count": 1,
   "metadata": {},
   "outputs": [],
   "source": [
    "import tensorflow as tf\n",
    "import pandas as pd\n",
    "import numpy as np\n",
    "import io"
   ]
  },
  {
   "cell_type": "code",
   "execution_count": 37,
   "metadata": {},
   "outputs": [
    {
     "name": "stdout",
     "output_type": "stream",
     "text": [
      "{'review/time': '1182729600', 'review/userId': 'A141HP4LYPWMSR', 'review/text': 'Synopsis: On the daily trek from Juarez, Mexico to El Paso, Texas an ever increasing number of female workers are found raped and murdered in the surrounding desert. Investigative reporter Karina Danes (Minnie Driver) arrives from Los Angeles to pursue the story and angers both the local police and the factory owners who employee the undocumented aliens with her pointed questions and relentless quest for the truth.<br /><br />Her story goes nationwide when a young girl named Mariela (Ana Claudia Talancon) survives a vicious attack and walks out of the desert crediting the Blessed Virgin for her rescue. Her story is further enhanced when the \"Wounds of Christ\" (stigmata) appear in her palms. She also claims to have received a message of hope for the Virgin Mary and soon a fanatical movement forms around her to fight against the evil that holds such a stranglehold on the area.<br /><br />Critique: Possessing a lifelong fascination with such esoteric matters as Catholic mysticism, miracles and the mysterious appearance of the stigmata, I was immediately attracted to the \\'05 DVD release `Virgin of Juarez\\'. The film offers a rather unique storyline blending current socio-political concerns, the constant flow of Mexican migrant workers back and forth across the U.S./Mexican border and the traditional Catholic beliefs of the Hispanic population. I must say I was quite surprised by the unexpected route taken by the plot and the means and methods by which the heavenly message unfolds.<br /><br />`Virgin of Juarez\\' is not a film that you would care to watch over and over again, but it was interesting enough to merit at least one viewing. Minnie Driver delivers a solid performance and Ana Claudia Talancon is perfect as the fragile and innocent visionary Mariela. Also starring Esai Morales and Angus Macfadyen (Braveheart).', 'review/summary': '\"There Is So Much Darkness Now ~ Come For The Miracle\"', 'review/profileName': 'Brian E. Erland \"Rainbow Sphinx\"', 'review/helpfulness': '7/7', 'product/productId': 'B003AI2VGA', 'review/score': '3.0'}\n",
      "{'review/time': '1181952000', 'review/userId': 'A328S9RN3U5M68', 'review/text': \"THE VIRGIN OF JUAREZ is based on true events surrounding the crime problems of Juarez, Mexico reflected in the gringo exploitation of businesses in neighboring El Paso, Texas.  The story contains many important facts that desperately need to be brought into the light, but the impact of the film falters because of the choices made by the writer and director.<br /><br />Karina Danes (Minnie Driver) is a journalist for a Los Angeles newspaper who has flown to Juarez to investigate the multiple (in the hundreds) killings of young women. The targets for these murders seem to be young women working in the US sponsored sweatshops in Juarez who are picked up at night after work, raped, beaten and killed.  Danes is convinced the Juarez police force is doing nothing and takes on the mission of exposing the tragedies, in part due to her own past issues of being too idle with similar crimes in the US.  She meets Father Herrera (Esai Morales) and a community activist Patrick (Angus MacFadyen) and together they probe the police files and follow the most recent murder, discovering along the way a survivor named Mariela (Ana Claudia Talanc&oacute;n), a frightened young girl whose memory of her rape and beating is erased by her apparent vision of the Virgin Mary.  A father of one of the victims, Isidro (Jorge Cervera, Jr.) nurtures Mariela and helps her to escape the hospital, placing her in a 'church' where she becomes a 'saint' to the people of Juarez who long for the crimes to end.  Mariela appears to the public with the stigmata of bleeding hands and offers hope to the victims' families.  Danes works hard to discover evidence that will expose the perpetrators, taking a sheet of photos of 'most wanted men' from the police office of Detective Lauro (Jacob Vargas), and works with the police and Father Herrera to resolve the tragic chain of events that continue in Juarez. Fearing for Mariela's life, they transport her to Los Angeles where mysterious events end the story.<br /><br />The squeaky, mawkish script was written by Michael Fallon and directed by Kevin James Dobson.  Had their vision been more directed toward defining the line between realism and fanaticism, the story would possibly have been better related.  There are some good performances by Driver, Talanc&oacute;n, Morales, and Vargas but the minor roles vary in quality.  Reporting atrocities such as the one this film addresses is a valid and valuable contribution of contemporary cinema.  It is sad when script and the production dull the impact.  Grady Harp, June 07\", 'review/summary': 'Worthwhile and Important Story Hampered by Poor Script and Production', 'review/profileName': 'Grady Harp', 'review/helpfulness': '4/4', 'product/productId': 'B003AI2VGA', 'review/score': '3.0'}\n",
      "{'review/time': '1164844800', 'review/userId': 'A1I7QGUDP043DG', 'review/text': \"The scenes in this film can be very disquieting due to their graphic re-enactment of real events, but this story needs to be told. I will say the violence was injected into the movie with as much taste as manageable when dealing with rape scenes, etc. Inspired by true events, women are being murdered in Juarez after they leave the factory where they work. A fearful community is suddenly given some hope when one of the young victims not only lives, but experiences 'stigmata' after seeing the Virgin Mary.  I was shocked to learn that murders in Juarez are still happening and many are unsolved. I believe this director brought a very important story to the surface. Though it's never pleasant to think about young women being murdered, this movie depicts a harsh reality of the high cost of exploited-cheap labor.<br /><br />Chrissy K. McVay - Author\", 'review/summary': 'This movie needed to be made.', 'review/profileName': 'Chrissy K. McVay \"Writer\"', 'review/helpfulness': '8/10', 'product/productId': 'B003AI2VGA', 'review/score': '5.0'}\n",
      "{'review/time': '1197158400', 'review/userId': 'A1M5405JH9THP9', 'review/text': 'THE VIRGIN OF JUAREZ (2006)<br />directed by Kevin James Dobson<br />approx. 1 hour 25 minutes<br /><br />The town of Juarez, Chihuahua in Mexico is just across the border from El Paso, Texas.  It is home to several factories owned by American companies who employ Mexicans at very low wages.  Since the early 1990s, Juarez has also been the murder site of hundreds of women.  There is a lot of debate as to whether the deaths are the work of a drug gang or a serial killer.  It has also been suggested that due to the local police department\\'s failure to solve the crimes, new rapists and thugs have moved to the area knowing that they will never be caught.  The situation is an overwhelming tragedy and this movie uses the story as a backdrop.<br /><br />We start off seeing how unsafe women feel as they walk and work in Juarez.  Then we meet the hard-headed American journalist played by Minnie Driver.  She aggressively questions the local police and befriends a Catholic priest.  Within the first twenty minutes or so, we see the terrifying reality of the situation in Juarez.<br /><br />At this point, the story jumps from something that might have happened to something that is only found in this movie.  A woman named Mariela survives an brutal attack but is in critical condition in a small hospital.  While the priest is speaking to her, she lets out a howl... and her hands begin bleeding*.  This \"stigmata\" is meant to show that she has been blessed by the Virgin Mary.  Our reporter protagonist clashes with various authorities on what should be done.  Meanwhile Mariela goes underground and attracts a devoted following, eventually landing her own radio show (!) and living under the protection of gang members, whom she refers to as \"modern warriors\".  The only thing missing is \"Jes&uacute;s Malverde\".<br /><br />Now I understand that we don\\'t know everything about the Juarez murders and that a screenwriter has to \"fill in the blanks\" when crafting an exciting dramatization.  However if you are going to deviate so far from the true story, then don\\'t preface your movie as being \"based on the ongoing unsolved murders in Cuidad Juarez\".  There is plenty of interesting and legitimate information in the REAL stories of Juarez and there is no need to fabricate.  This movie may \"raise the issue\" of the Juarez women, but it isn\\'t really about them at all!<br /><br />If you are interested in learning more about the killings in Juarez, there are a few documentaries.  A recent one from Las Perlas Del Mar Films is simply titled \\'JUAREZ\\' and is a good introduction.  Zulma Aguiar\\'s \\'JUAREZ MOTHERS FIGHT FEMICIDE\\' (focuses on the families) is also easy to find.  There is another one which I haven\\'t seen titled \\'BORDER ECHOES\\'.<br /><br />*- note to Hollywood:<br />the nails that crucified Jesus were through his wrists, not his palms!', 'review/summary': 'distantly based on a real tragedy', 'review/profileName': 'golgotha.gov', 'review/helpfulness': '1/1', 'product/productId': 'B003AI2VGA', 'review/score': '3.0'}\n",
      "{'review/time': '1188345600', 'review/userId': 'ATXL536YX71TR', 'review/text': \"Informationally, this SHOWTIME original is essential viewing for enlightening audiences on the dangerous plight of women migrant workers from Los Angeles who are routinely and mysteriously murdered on the border between Juarez, Mexico and El Paso, Texas.Since 1993, hundreds of woman have turned up dead and mutilated and no one seems to either care or have an answer. The fear and death continue.<br /><br />Director Kevin Dobson has brought us Michael Fallon's screenplay THE VIRGIN OF JUAREZ to the screen as a fanciful/possible solution to what may be happening down in Juarez.Though this is but a film, the information about the unsolved murders and the religious fanaticism in the area is crucial.<br /><br />Suggested companion film would be AGNES OF GOD.\", 'review/summary': '\"What\\'s going on down in Juarez and shining a light on it\"', 'review/profileName': 'KerrLines \"&#34;Movies,Music,Theatre&#34;\"', 'review/helpfulness': '1/1', 'product/productId': 'B003AI2VGA', 'review/score': '3.0'}\n",
      "{'review/time': '1229040000', 'review/userId': 'A3QYDL5CDNYN66', 'review/text': \"The murders in Juarez are real. This movie is a badly acted fantasy of revenge and holy intercession.  If there is a good movie about Juarez, I don't know what it is, but it is not this one.\", 'review/summary': 'Pretty pointless fictionalization', 'review/profileName': 'abra \"a devoted reader\"', 'review/helpfulness': '0/0', 'product/productId': 'B003AI2VGA', 'review/score': '2.0'}\n",
      "{'review/time': '1164153600', 'review/userId': 'AQJVNDW6YZFQS', 'review/text': 'Mexican men are macho rapists, gangsters or ineffective bureaucrats. Mexican women are semi-pagan, pious fools. There are self-serving corporate types and even a pushy, culturally-insensitive liberal female reporter.<br /><br />The story is absurd, the characters are unbelievable, the stereotypes are offensive.', 'review/summary': 'This is junk, stay away', 'review/profileName': 'Charles R. Williams', 'review/helpfulness': '3/11', 'product/productId': 'B003AI2VGA', 'review/score': '1.0'}\n",
      "{'review/time': '1060473600', 'review/userId': 'AD4CDZK7D31XP', 'review/text': \"Over the past few years, public television has put on a series of vintage &quot;Doo Wop&quot;  and Rock 'N' Roll concert reunions that have been absolutely flawless.  This latest dvd &quot;Rock, Rhythm And &quot;Doo Wop&quot;, is a total delight to ones ears.  Keep in mind all these vintage artists recorded in an era, when vocal talent was essential, to get a recording contract?  They did not have modern day computerized overdub technology, which enables many modern day artist's with limited ability to survive?  This dvd reads like a who's who of early rock.  The architect of rock, Little Richard starts off this concert with a stomping version of &quot;Keep-A Rockin&quot;, and the line-up that follows, keeps this concert at a premium level of performances.  You get to see and hear Lou Christie, Little Anthony and the Imperials, Jerry Butler, Lloyd Price, Joey Dee and the Starliters, Frankie Valli, Fred Paris and the Satins and the Countours, just to name a few.  However, nothing prepared me for the performance of Jay Black and the Americans?  After singing &quot;This Magic Moment&quot;, Jay gave a performance, that could make anybody from the babyboomer era feel young again.  As he prepared to sing &quot;Cara Mia&quot;, he joked that he first recorded the song at age 25, and must now at age 62, hit those same notes?  Hit those notes he did!  Using that opera trained voice, he delivered a powerful performance that had the entire audience on it's feet, showering him with a well deserved standing ovation.  If you are a fan of the old-time vocal and rock sound of the 50's and 60's, this is an absolute must have dvd.  I highly recommend this to everyone, who enjoys those golden oldies.\", 'review/summary': 'A  Rock N Roll History Lesson', 'review/profileName': 'Anthony Accordino', 'review/helpfulness': '64/65', 'product/productId': 'B00006HAXW', 'review/score': '5.0'}\n",
      "{'review/time': '1041292800', 'review/userId': 'A3Q4S5DFVPB70D', 'review/text': 'I recvd this video (DVD version) as a Christmas gift.  I put it on about 11 pm just to see what it was like, and finally got dragged to bed about 4:30 in the morning.  It\\'s the best \"Oldies\" video I\\'ve ever seen.  It was recorded LAST YEAR by the original singers - now mostly in their 60\\'s, and they\\'re still great - Jay and the Americans, Lou Christie, The Five Satins, Little Richard, Kathy Young, Little Anthony, The Fleetwoods, Jerry Butler, Lloyd Price, Frankie Valli and about 10 other acts.  These guys sing for sheer pride and the love of singing, and it all shows.  It\\'s a concert for PBS patrons filmed in Pittsburgh, PA, and distributed around the country to donors.  They mention that this was the third concert, and I want ALL of them.  Although the Amazon notes say this is a black and white video it is actually in color and very well produced.  The producer in fact is just a kid -only about 30 years old - but treats all of these acts with the greatest of respect, and truly celebrates their works. The DVD also has about an hour of excellent interviews.', 'review/summary': \"A  MUST-HAVE  video if you grew up in the 50's or 60's\", 'review/profileName': 'Joseph P. Aiello', 'review/helpfulness': '26/26', 'product/productId': 'B00006HAXW', 'review/score': '5.0'}\n",
      "{'review/time': '1061164800', 'review/userId': 'A2P7UB02HAVEPB', 'review/text': \"Wow! When I saw this show on PBS--that was it, I had to have this!  What great tunes!  And seeing these groups--terrific! I couldn't find a list of songs, so here's some of them: Keep-a-Knockin--Little Richard; Sea Cruise--Frankie Ford; A Thousand Stars--Kathi Young (still cute!) and the Innocents; Silhouettes by the Rays; Do You Love Me--The Contours; Have You Heard--The Duprees; over 40 songs in all, including Little Anthony, The Five Satins, Lloyd Price, The Skyliners, The Fleetwoods, Jay &amp; the Americans (This Magic Moment, Cara Mia and Come a Little Bit Closer!); Lou Christie; plus Franki Valli and Jerry Butler as hosts. Plus interviews with Kathi Young, Lou Christie and the producer TJ Lubinski (thanks TJ!)\", 'review/summary': 'If You Like DooWop You Gotta Have This DVD', 'review/profileName': '\"bruce_from_la\"', 'review/helpfulness': '24/24', 'product/productId': 'B00006HAXW', 'review/score': '5.0'}\n"
     ]
    }
   ],
   "source": [
    "class review:\n",
    "    def __init__(self, **kwargs):\n",
    "        if kwargs is not None:\n",
    "            for k, v in kwargs:\n",
    "                self.k = v\n",
    "\n",
    "def parse_product(review_text):\n",
    "    text_list = review_text.split(\"\\n\")\n",
    "    properties = [\"product/productId\",\n",
    "                  \"review/userId\",\n",
    "                  \"review/profileName\",\n",
    "                  \"review/helpfulness\",\n",
    "                  \"review/score\",\n",
    "                  \"review/time\",\n",
    "                  \"review/summary\",\n",
    "                  \"review/text\"]\n",
    "    obj = {}\n",
    "    for i in range(len(properties)):\n",
    "        prop = properties[i]\n",
    "        obj[prop] = text_list[i][len(prop) + 2:]\n",
    "    return obj\n",
    "\n",
    "def read_lines_until_next_newline(file):\n",
    "    data = []\n",
    "    current_line = file.readline()\n",
    "    while current_line != \"\\n\":\n",
    "        data.append(current_line)\n",
    "        current_line = file.readline()\n",
    "    return \"\".join(data)\n",
    "                \n",
    "def get_data(path, review_count, print_every=100000):\n",
    "    with open(path, \"r\") as dat:\n",
    "        reviews = \n",
    "        for i in range(review_count):\n",
    "            review_text = read_lines_until_next_newline(dat)\n",
    "            data_object = parse_product(review_text)\n",
    "            if i % print_every == 0:\n",
    "                print(f\"read {i} lines\")\n",
    "                \n",
    "data = get_data(\"data/movies.txt\", 10)"
   ]
  },
  {
   "cell_type": "code",
   "execution_count": null,
   "metadata": {},
   "outputs": [],
   "source": []
  }
 ],
 "metadata": {
  "kernelspec": {
   "display_name": "Python 3",
   "language": "python",
   "name": "python3"
  },
  "language_info": {
   "codemirror_mode": {
    "name": "ipython",
    "version": 3
   },
   "file_extension": ".py",
   "mimetype": "text/x-python",
   "name": "python",
   "nbconvert_exporter": "python",
   "pygments_lexer": "ipython3",
   "version": "3.5.2"
  }
 },
 "nbformat": 4,
 "nbformat_minor": 2
}
