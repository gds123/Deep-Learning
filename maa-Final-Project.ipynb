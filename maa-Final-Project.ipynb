{
 "cells": [
  {
   "cell_type": "code",
   "execution_count": 3,
   "metadata": {},
   "outputs": [],
   "source": [
    "import tensorflow as tf\n",
    "import pandas as pd\n",
    "import numpy as np\n",
    "import gzip\n",
    "import simplejson\n",
    "import json"
   ]
  },
  {
   "cell_type": "code",
   "execution_count": 4,
   "metadata": {},
   "outputs": [],
   "source": [
    "class DataImporter(object):\n",
    "    def __init__(self, path_to_data):\n",
    "        # get the raw data\n",
    "        raw_data = [json.loads(i) for i in gzip.open(path_to_data, \"rt\")]\n",
    "        self.data = pd.DataFrame(raw_data)\n",
    "        self.num_reviews = len(self.data)\n",
    "        \n",
    "        # get the counts of users and products\n",
    "        self.reviewers = self.data[\"reviewerID\"].unique()\n",
    "        self.num_reviewers = len(self.reviewers)\n",
    "        self.products = self.data[\"asin\"].unique()\n",
    "        self.num_products = len(self.products)\n",
    "        \n",
    "        # create int-to-name dictionaries for each\n",
    "        self.reviewer_to_num = {reviewer: idx for idx, reviewer in enumerate(self.reviewers)}\n",
    "        self.num_to_reviewer = {idx: reviewer for idx, reviewer in enumerate(self.reviewers)}\n",
    "        self.product_to_num = {product: idx for idx, product in enumerate(self.products)}\n",
    "        self.num_to_product = {idx: product for idx, product in enumerate(self.products)}\n",
    "        \n",
    "    def create_train_test_split(self, frac_test):\n",
    "        # get test data indices\n",
    "        test_indices = np.random.choice(self.num_reviews,\n",
    "                                         size=int(self.num_reviews * frac_test),\n",
    "                                         replace=False)\n",
    "        \n",
    "        # split raw data into train/test\n",
    "        raw_test = self.data.iloc[test_indices, :]\n",
    "        raw_train = self.data.drop(test_indices).dropna()\n",
    "        \n",
    "        # get dimensions of the matrices\n",
    "        dim = (self.num_reviewers, self.num_products)\n",
    "        self.test_matrix = self.populate_user_product_review_matrix(dim, raw_test)\n",
    "        self.train_matrix = self.populate_user_product_review_matrix(dim, raw_train)\n",
    "        \n",
    "        self.test = self.permute_matrix(self.test_matrix)\n",
    "        self.train = self.permute_matrix(self.train_matrix)\n",
    "        \n",
    "    def permute_matrix(self, mat):\n",
    "        perm = []\n",
    "        for u_idx, row in enumerate(mat):\n",
    "            for prod_idx, score in enumerate(row):\n",
    "                user_cpy = row[:]\n",
    "                score = user_cpy[prod_idx]\n",
    "                user_cpy[prod_idx] = 0\n",
    "                prod_cpy = mat[:, prod_idx]\n",
    "                prod_cpy[u_idx] = 0\n",
    "                perm.append({\"user\": user_cpy,\n",
    "                             \"reviewerID\": self.num_to_reviewer[u_idx],\n",
    "                             \"product\": prod_cpy,\n",
    "                             \"score\": score,\n",
    "                             \"asin\": self.num_to_product[prod_idx]\n",
    "                             })\n",
    "        return perm\n",
    "    \n",
    "    def populate_user_product_review_matrix(self, dimensions, dataset):\n",
    "        assert isinstance(dataset, pd.DataFrame)\n",
    "        ret_matrix = np.zeros(dimensions)\n",
    "        for idx, row in dataset.iterrows():\n",
    "            ret_matrix[self.reviewer_to_num[row[\"reviewerID\"]], self.product_to_num[row[\"asin\"]]] = row[\"overall\"]\n",
    "        return ret_matrix"
   ]
  },
  {
   "cell_type": "code",
   "execution_count": 5,
   "metadata": {},
   "outputs": [],
   "source": [
    "data_importer = DataImporter(\"data/reviews_Amazon_Instant_Video_5.json.gz\")\n",
    "data_importer.create_train_test_split(0.1)"
   ]
  },
  {
   "cell_type": "code",
   "execution_count": null,
   "metadata": {},
   "outputs": [],
   "source": [
    "with open(\"data/train.npy\", \"wb\") as train:\n",
    "    np.save(train, data_importer.train)"
   ]
  },
  {
   "cell_type": "code",
   "execution_count": null,
   "metadata": {},
   "outputs": [],
   "source": [
    "with open(\"data/test.npy\", \"wb\") as test:\n",
    "    np.save(test, data_importer.test)"
   ]
  }
 ],
 "metadata": {
  "kernelspec": {
   "display_name": "Python 3",
   "language": "python",
   "name": "python3"
  },
  "language_info": {
   "codemirror_mode": {
    "name": "ipython",
    "version": 3
   },
   "file_extension": ".py",
   "mimetype": "text/x-python",
   "name": "python",
   "nbconvert_exporter": "python",
   "pygments_lexer": "ipython3",
   "version": "3.5.2"
  }
 },
 "nbformat": 4,
 "nbformat_minor": 2
}
