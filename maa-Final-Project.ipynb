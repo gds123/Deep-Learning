{
 "cells": [
  {
   "cell_type": "code",
   "execution_count": 1,
   "metadata": {},
   "outputs": [],
   "source": [
    "import tensorflow as tf\n",
    "import pandas as pd\n",
    "import numpy as np\n",
    "import gzip\n",
    "import simplejson\n",
    "import json"
   ]
  },
  {
   "cell_type": "code",
   "execution_count": 2,
   "metadata": {},
   "outputs": [],
   "source": [
    "class DataImporter(object):\n",
    "    def __init__(self, path_to_data):\n",
    "        # get the raw data\n",
    "        raw_data = [json.loads(i) for i in gzip.open(path_to_data, \"rt\")]\n",
    "        self.data = pd.DataFrame(raw_data)\n",
    "        self.num_reviews = len(self.data)\n",
    "        \n",
    "        # get the counts of users and products\n",
    "        self.reviewers = self.data[\"reviewerID\"].unique()\n",
    "        self.num_reviewers = len(self.reviewers)\n",
    "        self.products = self.data[\"asin\"].unique()\n",
    "        self.num_products = len(self.products)\n",
    "        \n",
    "        # create int-to-name dictionaries for each\n",
    "        self.reviewer_to_num = {reviewer: idx for idx, reviewer in enumerate(self.reviewers)}\n",
    "        self.num_to_reviewer = {idx: reviewer for idx, reviewer in enumerate(self.reviewers)}\n",
    "        self.product_to_num = {product: idx for idx, product in enumerate(self.products)}\n",
    "        self.num_to_product = {idx: product for idx, product in enumerate(self.products)}\n",
    "        \n",
    "    def create_train_test_split(self, frac_test):\n",
    "        # get test data indices\n",
    "        test_indices = np.random.choice(self.num_reviews,\n",
    "                                         size=int(self.num_reviews * frac_test),\n",
    "                                         replace=False)\n",
    "        \n",
    "        # split raw data into train/test\n",
    "        raw_test = self.data.iloc[test_indices, :]\n",
    "        raw_train = self.data.drop(test_indices).dropna()\n",
    "        \n",
    "        # get dimensions of the matrices\n",
    "        dim = (self.num_reviewers, self.num_products)\n",
    "        self.test_matrix = self.populate_user_product_review_matrix(dim, raw_test)\n",
    "        self.train_matrix = self.populate_user_product_review_matrix(dim, raw_train)\n",
    "        \n",
    "        self.test = self.permute_matrix(self.test_matrix)\n",
    "        self.train = self.permute_matrix(self.train_matrix)\n",
    "        \n",
    "    def permute_matrix(self, mat):\n",
    "        perm = []\n",
    "        for u_idx, row in enumerate(mat):\n",
    "            for prod_idx, score in enumerate(row):\n",
    "                if score > 0.0:\n",
    "                    user_cpy = row[:]\n",
    "                    score = user_cpy[prod_idx]\n",
    "                    user_cpy[prod_idx] = 0\n",
    "                    prod_cpy = mat[:, prod_idx]\n",
    "                    prod_cpy[u_idx] = 0\n",
    "                    perm.append({\"user\": user_cpy,\n",
    "                                 \"reviewerID\": self.num_to_reviewer[u_idx],\n",
    "                                 \"product\": prod_cpy,\n",
    "                                 \"score\": score,\n",
    "                                 \"asin\": self.num_to_product[prod_idx]\n",
    "                                 })\n",
    "        return perm\n",
    "    \n",
    "    def populate_user_product_review_matrix(self, dimensions, dataset):\n",
    "        assert isinstance(dataset, pd.DataFrame)\n",
    "        ret_matrix = np.zeros(dimensions)\n",
    "        for idx, row in dataset.iterrows():\n",
    "            ret_matrix[self.reviewer_to_num[row[\"reviewerID\"]], self.product_to_num[row[\"asin\"]]] = row[\"overall\"]\n",
    "        return ret_matrix"
   ]
  },
  {
   "cell_type": "code",
   "execution_count": 3,
   "metadata": {},
   "outputs": [],
   "source": [
    "data_importer = DataImporter(\"data/reviews_Amazon_Instant_Video_5.json.gz\")\n",
    "data_importer.create_train_test_split(0.1)"
   ]
  },
  {
   "cell_type": "code",
   "execution_count": 71,
   "metadata": {},
   "outputs": [],
   "source": [
    "class wide_and_deep(object):\n",
    "    \n",
    "    def __init__(self, train, test):\n",
    "        \n",
    "        self.train = np.copy(train)\n",
    "        self.test = np.copy(test)\n",
    "        \n",
    "        np.random.shuffle(self.train)\n",
    "        np.random.shuffle(self.test)\n",
    "        \n",
    "        self.train = pd.DataFrame(list(self.train))\n",
    "        self.test = pd.DataFrame(list(self.test))\n",
    "        \n",
    "    def add_all_features_columns(self):\n",
    "        self.train = np.array( list(map(self.add_num_ratings, self.train)) )\n",
    "        self.train = np.array( list(map(self.add_top_ratings, self.train)) )\n",
    "        self.train = np.array( list(map(self.add_bottom_ratings, self.train)) )\n",
    "        self.train = np.array( list(map(self.add_average_ratings, self.train)) )\n",
    "        self.train = np.array( list(map(self.add_percent_rating, self.train)) )\n",
    "        \n",
    "    def add_num_ratings(self, data):\n",
    "        data['num_user_ratings'] = np.count_nonzero(data['user'])\n",
    "        data['num_movie_ratings'] = np.count_nonzero(data['product'])\n",
    "        return data\n",
    "        \n",
    "    def add_top_ratings(self, data):\n",
    "        data['top_user_rating'] = np.amax(data['user'])\n",
    "        data['top_movie_rating'] = np.amax(data['product'])\n",
    "        return data\n",
    "    \n",
    "    def add_bottom_ratings(self, data):\n",
    "        data['bottom_user_rating'] = np.amin(data['user'])\n",
    "        data['bottom_movie_rating'] = np.amin(data['product'])\n",
    "        return data\n",
    "    \n",
    "    def add_average_ratings(self, data):\n",
    "        data['bottom_user_rating'] = np.average(data['user'])\n",
    "        data['bottom_movie_rating'] = np.average(data['product'])\n",
    "        return data\n",
    "    \n",
    "    def add_percent_rating(self, data):\n",
    "        data['percent_one_star'] = len(np.where(data['user'] == 1.0)[0])/len(data['user'])\n",
    "        data['percent_two_star'] = len(np.where(data['user'] == 2.0)[0])/len(data['user'])\n",
    "        data['percent_three_star'] = len(np.where(data['user'] == 3.0)[0])/len(data['user'])\n",
    "        data['percent_four_star'] = len(np.where(data['user'] == 4.0)[0])/len(data['user'])\n",
    "        data['percent_five_star'] = len(np.where(data['user'] == 5.0)[0])/len(data['user'])\n",
    "        return data\n",
    "        \n",
    "    def total_ratings(self, data):\n",
    "        count = 0.0\n",
    "        for i in data:\n",
    "            if i['score'] != 0.0:\n",
    "                count += 1\n",
    "        print(count)\n",
    "        \n",
    "    def build_model(self):\n",
    "        N, D = self.train.shape\n",
    "        X = tf.placeholder(dtype=tf.float32, shape=[None, D])\n",
    "        \n",
    "        def reshape_and_matmul(x):\n",
    "            return tf.matmul(tf.reshape(x, [x.shape[0], 1]), tf.reshape(x, [1, x.shape[0]]))\n",
    "        \n",
    "        cross_prod_mat = tf.map_fn(reshape_and_matmul, X)\n",
    "        cross_prod = tf.map_fn(lambda x: tf.reshape(x, [-1]), cross_prod_mat)\n",
    "        "
   ]
  },
  {
   "cell_type": "code",
   "execution_count": 72,
   "metadata": {},
   "outputs": [],
   "source": [
    "wad = wide_and_deep(data_importer.train, data_importer.test)"
   ]
  },
  {
   "cell_type": "code",
   "execution_count": 73,
   "metadata": {},
   "outputs": [
    {
     "name": "stdout",
     "output_type": "stream",
     "text": [
      "Tensor(\"map_9/TensorArrayStack/TensorArrayGatherV3:0\", shape=(?, 25), dtype=float32)\n"
     ]
    }
   ],
   "source": [
    "wad.build_model()"
   ]
  }
 ],
 "metadata": {
  "kernelspec": {
   "display_name": "Python 3",
   "language": "python",
   "name": "python3"
  },
  "language_info": {
   "codemirror_mode": {
    "name": "ipython",
    "version": 3
   },
   "file_extension": ".py",
   "mimetype": "text/x-python",
   "name": "python",
   "nbconvert_exporter": "python",
   "pygments_lexer": "ipython3",
   "version": "3.5.2"
  }
 },
 "nbformat": 4,
 "nbformat_minor": 2
}
