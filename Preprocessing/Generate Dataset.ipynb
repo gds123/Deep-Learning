{
 "cells": [
  {
   "cell_type": "code",
   "execution_count": 1,
   "metadata": {},
   "outputs": [],
   "source": [
    "import json\n",
    "import numpy as np\n",
    "import pandas as pd\n",
    "import re"
   ]
  },
  {
   "cell_type": "code",
   "execution_count": 18,
   "metadata": {},
   "outputs": [],
   "source": [
    "def get_list_of_dicts(fname): return [json.loads(i) for i in open(fname, \"rt\")]"
   ]
  },
  {
   "cell_type": "code",
   "execution_count": 19,
   "metadata": {},
   "outputs": [
    {
     "data": {
      "text/plain": [
       "{'asin': 'B000H00VBQ',\n",
       " 'helpful': [0, 0],\n",
       " 'overall': 2.0,\n",
       " 'reviewText': \"I had big expectations because I love English TV, in particular Investigative and detective stuff but this guy is really boring. It didn't appeal to me at all.\",\n",
       " 'reviewTime': '05 3, 2014',\n",
       " 'reviewerID': 'A11N155CW1UV02',\n",
       " 'reviewerName': 'AdrianaM',\n",
       " 'summary': 'A little bit boring for me',\n",
       " 'unixReviewTime': 1399075200}"
      ]
     },
     "execution_count": 19,
     "metadata": {},
     "output_type": "execute_result"
    }
   ],
   "source": [
    "raw_data = get_list_of_dicts(\"../data/reviews_Amazon_Instant_Video_5.json\")\n",
    "raw_data[0]"
   ]
  },
  {
   "cell_type": "code",
   "execution_count": 22,
   "metadata": {},
   "outputs": [
    {
     "name": "stdout",
     "output_type": "stream",
     "text": [
      "Not much at least, but I didn't get interested in finish it so I guess that says a lot about the movie. The characters didn't make it for me, kind of boring.\n"
     ]
    }
   ],
   "source": [
    "from IPython.display import display\n",
    "data = pd.DataFrame(raw_data).loc[:, [\"reviewerID\", \"reviewText\", \"asin\", \"overall\"]]\n",
    "user_item_revew = data.drop(\"reviewText\", axis=1)\n",
    "user_reviews = pd.pivot_table(data, index=[\"reviewerID\", \"asin\"], aggfunc=lambda x: x)\n",
    "user_scores = pd.pivot_table(data, index=[\"reviewerID\", \"asin\"])\n",
    "movie_reviews = pd.pivot_table(data, index=[\"asin\", \"reviewerID\"], aggfunc=lambda x: x)\n",
    "movie_scores = pd.pivot_table(data, index=[\"asin\", \"reviewerID\"])\n",
    "users = pd.concat([user_reviews, user_scores], axis=1)\n",
    "movies = pd.concat([movie_reviews, movie_scores], axis=1)\n",
    "users[:2]\n",
    "print(users.loc[\"A11N155CW1UV02\", \"B008FWHGYS\"][\"reviewText\"])"
   ]
  },
  {
   "cell_type": "code",
   "execution_count": null,
   "metadata": {},
   "outputs": [],
   "source": [
    "def add_user_reviews(x):\n",
    "    x[\"userReviews\"] = user_reviews.loc[x[\"reviewerID\"]].drop(x[\"asin\"])\n",
    "    x[\"movieReviews\"] = movie_reviews.loc[x[\"asin\"]].drop(x[\"reviewerID\"])\n",
    "    return x\n",
    "dat = user_item_revew.apply(add_user_reviews, axis=1)"
   ]
  },
  {
   "cell_type": "code",
   "execution_count": null,
   "metadata": {},
   "outputs": [],
   "source": [
    "with open(\"../data/unembedded_grouped_reviews.txt\", \"w\") as f:\n",
    "    f.write(dat.to_json())"
   ]
  }
 ],
 "metadata": {
  "kernelspec": {
   "display_name": "Python 3",
   "language": "python",
   "name": "python3"
  },
  "language_info": {
   "codemirror_mode": {
    "name": "ipython",
    "version": 3
   },
   "file_extension": ".py",
   "mimetype": "text/x-python",
   "name": "python",
   "nbconvert_exporter": "python",
   "pygments_lexer": "ipython3",
   "version": "3.6.3"
  }
 },
 "nbformat": 4,
 "nbformat_minor": 2
}
