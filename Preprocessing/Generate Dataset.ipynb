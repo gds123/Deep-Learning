{
 "cells": [
  {
   "cell_type": "code",
   "execution_count": 1,
   "metadata": {},
   "outputs": [],
   "source": [
    "import json\n",
    "import numpy as np\n",
    "import pandas as pd\n",
    "import re"
   ]
  },
  {
   "cell_type": "code",
   "execution_count": 2,
   "metadata": {},
   "outputs": [],
   "source": [
    "def get_list_of_dicts(fname): return [json.loads(i) for i in open(fname, \"rt\")]"
   ]
  },
  {
   "cell_type": "code",
   "execution_count": 3,
   "metadata": {},
   "outputs": [
    {
     "data": {
      "text/plain": [
       "{'asin': 'B000H00VBQ',\n",
       " 'helpful': [0, 0],\n",
       " 'overall': 2.0,\n",
       " 'reviewText': \"I had big expectations because I love English TV, in particular Investigative and detective stuff but this guy is really boring. It didn't appeal to me at all.\",\n",
       " 'reviewTime': '05 3, 2014',\n",
       " 'reviewerID': 'A11N155CW1UV02',\n",
       " 'reviewerName': 'AdrianaM',\n",
       " 'summary': 'A little bit boring for me',\n",
       " 'unixReviewTime': 1399075200}"
      ]
     },
     "execution_count": 3,
     "metadata": {},
     "output_type": "execute_result"
    }
   ],
   "source": [
    "raw_data = get_list_of_dicts(\"../data/reviews_Amazon_Instant_Video_5.json\")\n",
    "raw_data[0]"
   ]
  },
  {
   "cell_type": "code",
   "execution_count": 5,
   "metadata": {},
   "outputs": [],
   "source": [
    "from IPython.display import display\n",
    "data = pd.DataFrame(raw_data).loc[:, [\"reviewerID\", \"reviewText\", \"asin\", \"overall\"]]\n",
    "user_item_revew = data.drop(\"reviewText\", axis=1)\n",
    "user_reviews = pd.pivot_table(data, index=[\"reviewerID\", \"asin\"], aggfunc=lambda x: x).drop(\"overall\", axis=1)\n",
    "movie_reviews = pd.pivot_table(data, index=[\"asin\", \"reviewerID\"], aggfunc=lambda x: x).drop(\"overall\", axis=1)"
   ]
  },
  {
   "cell_type": "code",
   "execution_count": 6,
   "metadata": {},
   "outputs": [],
   "source": [
    "def add_user_reviews(x):\n",
    "    ur = user_reviews.loc[x[\"reviewerID\"]].drop(x[\"asin\"])\n",
    "    mr = movie_reviews.loc[x[\"asin\"]].drop(x[\"reviewerID\"])\n",
    "    x[\"userReviews\"] = ur[\"reviewText\"].tolist()\n",
    "    x[\"movieReviews\"] = mr[\"reviewText\"].tolist()\n",
    "    return x\n",
    "dat = user_item_revew.apply(add_user_reviews, axis=1)"
   ]
  },
  {
   "cell_type": "code",
   "execution_count": 7,
   "metadata": {},
   "outputs": [
    {
     "data": {
      "text/plain": [
       "['I really like the characters and the actors. It is a different, unconventional approach of the encounters of two people that are lost in life, philosophically speaking.THis movie cheered me up. Perfect for when you are in the mood for something mellow and uncomplicated.',\n",
       " \"Not much at least, but I didn't get interested in finish it so I guess that says a lot about the movie. The characters didn't make it for me, kind of boring.\",\n",
       " \"I should watch all the episodes. Still I didn't. I like the actors very much especially Mads. He is great and has so a particular and odd face that it is perfect for the series but still I didn't see enough. If i have to say something now I think that could be better done, it is lacking something but I don't know what.\",\n",
       " 'It was so boring I have to pass it forward. Although probably it is a market for this kind of movie.',\n",
       " 'I am not sure about this one yet. I have to see more. The problem is lately all these kinds of shows look alike and is very hard to make some original and interesting, but I will watch a second episode.']"
      ]
     },
     "execution_count": 7,
     "metadata": {},
     "output_type": "execute_result"
    }
   ],
   "source": [
    "dat.loc[0, [\"userReviews\"]][0]"
   ]
  },
  {
   "cell_type": "code",
   "execution_count": 12,
   "metadata": {},
   "outputs": [],
   "source": [
    "dat.to_csv(path_or_buf=\"../data/unembedded_grouped_reviews.csv\")"
   ]
  }
 ],
 "metadata": {
  "kernelspec": {
   "display_name": "Python 3",
   "language": "python",
   "name": "python3"
  },
  "language_info": {
   "codemirror_mode": {
    "name": "ipython",
    "version": 3
   },
   "file_extension": ".py",
   "mimetype": "text/x-python",
   "name": "python",
   "nbconvert_exporter": "python",
   "pygments_lexer": "ipython3",
   "version": "3.6.3"
  }
 },
 "nbformat": 4,
 "nbformat_minor": 2
}
