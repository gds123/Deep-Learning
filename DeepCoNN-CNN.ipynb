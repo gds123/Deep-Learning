{
 "cells": [
  {
   "cell_type": "code",
   "execution_count": 1,
   "metadata": {},
   "outputs": [
    {
     "name": "stderr",
     "output_type": "stream",
     "text": [
      "Using TensorFlow backend.\n",
      "/home/michael/Deep-Learning/venv/lib/python3.6/importlib/_bootstrap.py:219: RuntimeWarning: compiletime version 3.5 of module 'tensorflow.python.framework.fast_tensor_util' does not match runtime version 3.6\n",
      "  return f(*args, **kwds)\n"
     ]
    }
   ],
   "source": [
    "# preprocessing imports\n",
    "import pandas as pd\n",
    "import numpy as np\n",
    "from time import time\n",
    "from sklearn.model_selection import train_test_split\n",
    "from keras.preprocessing.text import text_to_word_sequence"
   ]
  },
  {
   "cell_type": "code",
   "execution_count": 2,
   "metadata": {},
   "outputs": [],
   "source": [
    "# functions we implemented\n",
    "from custom_functions import init_embeddings_map, get_embed_and_pad_func"
   ]
  },
  {
   "cell_type": "code",
   "execution_count": 3,
   "metadata": {},
   "outputs": [],
   "source": [
    "emb_size = 50\n",
    "embedding_map = init_embeddings_map(\"glove.6B.\" + str(emb_size) + \"d.txt\")"
   ]
  },
  {
   "cell_type": "code",
   "execution_count": 4,
   "metadata": {},
   "outputs": [],
   "source": [
    "raw_data = pd.read_csv(\"data/unembedded_grouped_cleaned_data.csv\")"
   ]
  },
  {
   "cell_type": "code",
   "execution_count": 5,
   "metadata": {},
   "outputs": [],
   "source": [
    "train, test = train_test_split(raw_data, test_size=0.1, shuffle=True)"
   ]
  },
  {
   "cell_type": "code",
   "execution_count": 6,
   "metadata": {},
   "outputs": [],
   "source": [
    "user_seq_sizes = raw_data.loc[:, \"userReviews\"].apply(lambda x: x.split()).apply(len)\n",
    "item_seq_sizes = raw_data.loc[:, \"movieReviews\"].apply(lambda x: x.split()).apply(len)"
   ]
  },
  {
   "cell_type": "code",
   "execution_count": 7,
   "metadata": {},
   "outputs": [],
   "source": [
    "u_ptile = 50\n",
    "i_ptile = 20\n",
    "u_seq_len = int(np.percentile(user_seq_sizes, u_ptile))\n",
    "i_seq_len = int(np.percentile(item_seq_sizes, i_ptile))"
   ]
  },
  {
   "cell_type": "code",
   "execution_count": 8,
   "metadata": {},
   "outputs": [],
   "source": [
    "embedding_fn = get_embed_and_pad_func(i_seq_len, u_seq_len, np.array([0.0] * emb_size), embedding_map)\n",
    "    \n",
    "train_embedded = train.apply(embedding_fn, axis=1)\n",
    "test_embedded = test.apply(embedding_fn, axis=1)"
   ]
  },
  {
   "cell_type": "markdown",
   "metadata": {},
   "source": [
    "# DeepCoNN Recommendation Model"
   ]
  },
  {
   "cell_type": "code",
   "execution_count": 51,
   "metadata": {},
   "outputs": [],
   "source": [
    "# modeling imports\n",
    "import tensorflow as tf\n",
    "from keras.models import Model\n",
    "from keras.callbacks import EarlyStopping, TensorBoard\n",
    "from keras.layers import Conv1D, MaxPooling1D, Flatten\n",
    "from keras.layers import Input, Dense\n",
    "from keras.layers.merge import Add, Dot, Concatenate"
   ]
  },
  {
   "cell_type": "code",
   "execution_count": 68,
   "metadata": {},
   "outputs": [],
   "source": [
    "class DeepCoNN():\n",
    "    def __init__(self,\n",
    "                 embedding_size,\n",
    "                 hidden_size,\n",
    "                 u_seq_len,\n",
    "                 m_seq_len,\n",
    "                 filters=2,\n",
    "                 kernel_size=10,\n",
    "                 strides=6):\n",
    "        self.embedding_size = embedding_size\n",
    "        self.hidden_size = hidden_size\n",
    "        self.filters = filters\n",
    "        self.kernel_size = kernel_size\n",
    "        self.inputU, self.towerU = self.create_deepconn_tower(u_seq_len)\n",
    "        self.inputM, self.towerM = self.create_deepconn_tower(m_seq_len)\n",
    "        self.joined = Concatenate()([self.towerU, self.towerM])\n",
    "        self.outNeuron = Dense(1)(self.joined)\n",
    "\n",
    "    def create_deepconn_tower(self, max_seq_len):\n",
    "        input_layer = Input(shape=(max_seq_len, self.embedding_size))\n",
    "        tower = Conv1D(filters=self.filters,\n",
    "                       kernel_size=self.kernel_size,\n",
    "                       activation=\"tanh\")(input_layer)\n",
    "        tower = MaxPooling1D()(tower)\n",
    "        tower = Flatten()(tower)\n",
    "        tower = Dense(self.hidden_size, activation=\"relu\")(tower)\n",
    "        return input_layer, tower\n",
    "\n",
    "    def create_deepconn_dp(self):\n",
    "        dotproduct = Dot(axes=1)([self.towerU, self.towerM])\n",
    "        output = Add()([self.outNeuron, dotproduct])\n",
    "        self.model = Model(inputs=[self.inputU, self.inputM], outputs=[output])\n",
    "        self.model.compile(optimizer='Adam', loss='mse')\n",
    "        \n",
    "    def train(self, train_data, batch_size, epochs=3500):\n",
    "        tensorboard = TensorBoard(log_dir=\"tf_logs/{}\".format(pd.Timestamp(int(time()), unit=\"s\")))\n",
    "        self.create_deepconn_dp()\n",
    "        print(self.model.summary())\n",
    "        \n",
    "        user_reviews = np.array(list(train_data.loc[:, \"userReviews\"]))\n",
    "        movie_reviews = np.array(list(train_data.loc[:, \"movieReviews\"]))\n",
    "\n",
    "        self.train_inputs = [user_reviews, movie_reviews]\n",
    "        self.train_outputs = train_data.loc[:, \"overall\"]\n",
    "        \n",
    "        self.history = self.model.fit(self.train_inputs,\n",
    "                                      self.train_outputs,\n",
    "                                      callbacks=[tensorboard],\n",
    "                                      validation_split=0.05,\n",
    "                                      batch_size=batch_size,\n",
    "                                      epochs=epochs)\n",
    "        \n",
    "        "
   ]
  },
  {
   "cell_type": "code",
   "execution_count": null,
   "metadata": {
    "scrolled": true
   },
   "outputs": [
    {
     "name": "stdout",
     "output_type": "stream",
     "text": [
      "__________________________________________________________________________________________________\n",
      "Layer (type)                    Output Shape         Param #     Connected to                     \n",
      "==================================================================================================\n",
      "input_21 (InputLayer)           (None, 312, 50)      0                                            \n",
      "__________________________________________________________________________________________________\n",
      "input_22 (InputLayer)           (None, 985, 50)      0                                            \n",
      "__________________________________________________________________________________________________\n",
      "conv1d_21 (Conv1D)              (None, 303, 2)       1002        input_21[0][0]                   \n",
      "__________________________________________________________________________________________________\n",
      "conv1d_22 (Conv1D)              (None, 976, 2)       1002        input_22[0][0]                   \n",
      "__________________________________________________________________________________________________\n",
      "max_pooling1d_21 (MaxPooling1D) (None, 151, 2)       0           conv1d_21[0][0]                  \n",
      "__________________________________________________________________________________________________\n",
      "max_pooling1d_22 (MaxPooling1D) (None, 488, 2)       0           conv1d_22[0][0]                  \n",
      "__________________________________________________________________________________________________\n",
      "flatten_21 (Flatten)            (None, 302)          0           max_pooling1d_21[0][0]           \n",
      "__________________________________________________________________________________________________\n",
      "flatten_22 (Flatten)            (None, 976)          0           max_pooling1d_22[0][0]           \n",
      "__________________________________________________________________________________________________\n",
      "dense_31 (Dense)                (None, 64)           19392       flatten_21[0][0]                 \n",
      "__________________________________________________________________________________________________\n",
      "dense_32 (Dense)                (None, 64)           62528       flatten_22[0][0]                 \n",
      "__________________________________________________________________________________________________\n",
      "concatenate_11 (Concatenate)    (None, 128)          0           dense_31[0][0]                   \n",
      "                                                                 dense_32[0][0]                   \n",
      "__________________________________________________________________________________________________\n",
      "dense_33 (Dense)                (None, 1)            129         concatenate_11[0][0]             \n",
      "__________________________________________________________________________________________________\n",
      "dot_3 (Dot)                     (None, 1)            0           dense_31[0][0]                   \n",
      "                                                                 dense_32[0][0]                   \n",
      "__________________________________________________________________________________________________\n",
      "add_6 (Add)                     (None, 1)            0           dense_33[0][0]                   \n",
      "                                                                 dot_3[0][0]                      \n",
      "==================================================================================================\n",
      "Total params: 84,053\n",
      "Trainable params: 84,053\n",
      "Non-trainable params: 0\n",
      "__________________________________________________________________________________________________\n",
      "None\n",
      "Train on 31742 samples, validate on 1671 samples\n",
      "Epoch 1/50\n",
      "31742/31742 [==============================] - 61s 2ms/step - loss: 1.2581 - val_loss: 1.1687\n",
      "Epoch 2/50\n",
      "14112/31742 [============>.................] - ETA: 32s - loss: 1.1003"
     ]
    }
   ],
   "source": [
    "hidden_size = 64\n",
    "deepconn = DeepCoNN(emb_size, hidden_size, u_seq_len, i_seq_len)\n",
    "\n",
    "batch_size = 32\n",
    "deepconn.train(train_embedded, batch_size, epochs=50)\n",
    "\n",
    "# deepconn.model.save(\"cnn.h5\")"
   ]
  },
  {
   "cell_type": "code",
   "execution_count": 40,
   "metadata": {},
   "outputs": [],
   "source": [
    "\n",
    "user_reviews = np.array(list(test_embedded.loc[:, \"userReviews\"]))\n",
    "movie_reviews = np.array(list(test_embedded.loc[:, \"movieReviews\"]))\n",
    "\n",
    "test_inputs = [user_reviews, movie_reviews]\n",
    "\n",
    "true_rating = np.array(list(test_embedded.loc[:, \"overall\"])).reshape((-1, 1))\n",
    "\n",
    "predictions = deepconn.model.predict(test_inputs)\n",
    "\n",
    "error = np.absolute(predictions - true_rating)"
   ]
  },
  {
   "cell_type": "code",
   "execution_count": 41,
   "metadata": {},
   "outputs": [],
   "source": [
    "largest_error = np.argmax(error)\n",
    "smallest_error = np.argmin(error)"
   ]
  },
  {
   "cell_type": "code",
   "execution_count": 42,
   "metadata": {},
   "outputs": [
    {
     "name": "stdout",
     "output_type": "stream",
     "text": [
      "user gave rating: 1.0 while we predicted [ 4.75031042]\n"
     ]
    },
    {
     "data": {
      "text/plain": [
       "\"this is a really fun show i like it because it has nothing to do with day to day life i just think it's really a good show that keeps getting better it is great that i can watch past seasons on amazon as i often see things i missed before it is one of my favorite shows on tv i can't wait for it to start again on mtv june 23 it is great that i can watch past seasons on amazon as their are a lot of things see that i missed last time i watched one thing i recently saw was the first time scott's eyes glow red is in season 1 episode 7 and it only happens for a second when his alpha who he doesn't know is yet calls him out in the school gym to kill his friends what's the latin translation for what the demon said roughly alli i octe es octe is eight and there are eight of them so it's saying something about the eight but what more please lots of potential with many unanswered questions for future episodes the cast was incredible no b movie actors here\""
      ]
     },
     "execution_count": 42,
     "metadata": {},
     "output_type": "execute_result"
    }
   ],
   "source": [
    "print(\"user gave rating:\", test.iloc[largest_error, :][\"overall\"], \"while we predicted\", predictions[largest_error])\n",
    "test.iloc[largest_error, :][\"userReviews\"]"
   ]
  },
  {
   "cell_type": "code",
   "execution_count": 43,
   "metadata": {},
   "outputs": [
    {
     "data": {
      "text/plain": [
       "\"the first season was fun but i've been losing interest in this highly scripted 34 reality 34 series this may still be highly interesting to 13 year old kids but as a guy a bit older than si the writing just seems aimed at more of a three stooges audience i watched this show right up until phil's interview with gq how can anyone anyone claim that african americans were 34 happy happy happy 34 under the jim crow laws how can anyone anyone be so hateful about people who identify as lgbt i will never watch again feel free to hate on this review just because some people agree with him doesn't make it right very funny and interesting my husband really enjoys watching the videos and keeps watching as long as there are more of them always makes me laugh not many comedies on tv can claim that fame for me love the lesson sum up at the end jase is the sexy star can't get enough of him however the others are all very good and funny i like the prayer before their meals my whole family young and old like this program it's just good clean fun one of the few programs that my husband and our grandson can sit and watch together duck dynasty is entertaining and wholesome but i'm not sure it is profitable in any way the characters are so much different from most people that it's hard to relate duck dynasty is one of our favorite programs and season 2 was no exception stupid and funny as usual what else can i say this show sort of grows on you at first it seems as if it is all about the money but these guys do seem to have a moral compass though sometimes it's not till supper time that it shows recommend for all even us poor people lol love the characters and the way they are developed love the rags to riches theme also looking forward to watching the whole season we enjoy watching these redneck guys and their antics on this show all i can say is it's a good thing 34 the boys 34 work for their brother because i don't think they could make it in the real world with a different job it seems like they goof off 90 of the time but then again how much fun would the show be if they just sat around in a warehouse and made duck calls i'm sure they get paid for the tv show on top of endorsements and what they make working there sure wish i had a cushy job like that love this show very entertaining great characters and they make you laugh quite the sibling rivalry as well and an uncle who is a real redneck these to are old reruns that everybody has seen this is why they too are free with amazon prime also the sound works with this even though it is old i just love this show wish i didn't have to pay to see the rest as his daddy would say happy happy happy love duck dynasty wholesome show totally fun to watch appropriate for kids makes me want to go outdoors and hike more i watched this show one episode after another and just got the biggest laugh and enjoyed every minute i plan to buy all the seasons duck dynasty is a great family fun television show to watch it is good ole clean fun i absolutely love it if you have heard the hype about this show but have not watched it yet just watch it you will be hooked just like the rest of us these guys are funny wish there was more hunting though they kinda just call each other idiots and do red neck bits good stuff though worth the watch in a word yes in fact i am waiting for a cookbook from miss kay so i can learn how to do frogs legs and not pay premium dollars for them in a resturant these people whether they are practiced or fully tv novices are the funniest comedians on tv the sight of si telling children about vietnam on career day in season one while phil skinned and cleaned a critter for the high school class had me careening off the walls in hysterical laughter and pa going fishing with luke and his date then having them clean and gut the fish was fall out of my chair funny these millionaire rednecks camo guns and duck calls lure you into their world and if its true or exaggerated totally enthrall with their ideas interests and devotion to family and to god duck dynasty season 1 sneak peek i bought this because season one was awesome and i do not have cable because i do not like most of the junk on now days i love love love this show but then i tend to be politically incorrect and so are they they make me happy happy happy just wish more seasons were available on amazon prime this show cracks me up it's nice to watch a reality show that isn't all about drama this show is light hearted and very ridiculous at times i like the values that the cast sticks to no matter the situation and how they end every episode together as a family not as much hunting and fishing in this season as the first one but still as good really enjoyed it can't wait for amazon to put season 3 on prime hey look here jase and si are funny funny funny love the prayer at the end of most shows i see myself in this family great family entertainment this show is always funny and keeps the humor clean i love love love duck dynasty they are funny and entertaining and i love them like they were my own family while some of their views aren't the same as mine they are entitled to their opinions and i love how they stay true to their convictions and their way of life money definitely did not change them all the seasons are great no profanity no inuendos family values funny a great series a show that is worth watching i liked this season just as much as the first season it was great keep it up we all have our favorite people on the show but regardless its great their family is so tight knit that is something for us all to make happen entertaining and pure americana probably the best program on the air i hope they continue for a few more years my family and i enjoy watching and laughing duck dynasty great morals do not believe all the rave reviews they're all from family members and die hard fans who don't want to see these bird killers go it's time to close the curtains on this lame show already it is different from other shows in that this family is both modern and old school when it comes to their lifestyle it is like the beverly hillbilly's built their mansion on their own land where they hit oil and are living out in the woods a very unique blend of country living family roots that go back generations with some cash and modern day society thrown into the mix to interfere with the natural order of things si is just a naturally funny guy and i can see why everyone in the family loves him so great to have a fun show to watch with kids and grandkids there are so few shows out there worth watching thoroughly enjoyed these silly people i hope a e doesn't keep the patriarch phil robertson off when i researched and read the non cherry picked comments he made in the full gq article he said nothing anyone should be offended by tolerance works on both sides i believe in religious freedom as long as you're not deliberately trying to harm others with it the buffers they didn't print 8220 my mission today is to go forth and tell people about why i follow christ and also what the bible teaches and part of that teaching is that women and men are meant to be together 8221 but i would 8220 never treat anyone with disrespect just because they are different from me 8221 8220 we never ever judge someone on who 8217 s going to heaven hell 34 robertson said in a less quoted passage from the gq piece 34 that 8217 s the almighty 8217 s job we just love 8217 em give 8217 em the good news about jesus 34 34 i love all men and women 34 robertson said 34 i am a lover of humanity not a hater 34 when a member of the class thanked robertson for saying what he said in the interview he appeared to shrug it off saying 34 i didn 8217 t think much of it at all but it seems a lot of other people did 34 i would worry more about some religions who's laws say to execute homosexuals rather than nitpick on people with traditional christian values who get harrassed for them more than the people who claim to be victims i love this show because of all the characters in it but especially when i hear phil say we all bow and he prays at dinner it brings tears of joy to my eyes i love the lord and i love to see it on tv so must a lot of other americans glad this show is on tv hey looky here jack they's all good rednecks i believe most of my small town stays home to watch each episode what's special about this show is the family values this is a fun show for the whole family it teaches some good morals and doesn't take anything too seriously it is contrived and unbelievable at times but it's still good to see a family staying together even when things don't go well my family has had a great time watching this show the girls get grossed out quite a bit but it is real life at its fullest own your land and hunt on it always cook what you hunt it is also funny had the gentlemen interact another son favorite very intresting he must really love it cause he has gotten 2 seasons try you might like these guys are hilarious but they keep to their religious views at the end of the day great for the whole family hilarious redneck twist on normal everyday life absolutely love the moral and prayer at the end of each episode should have more shows like this poor little millionaires making even more money on the idiots that care about duck dynasty's daily lives reality tv is the worst i grew up in the woods too it reminds me of good times with family and fun times with my brother before political correctness became vogue it is hilariously funny because i can relate to the way the guys deal with situations on the show my cousins brother and friends tease like they do on the show people now seem to take themselves way too seriously and this show is refreshing because they kid tease and have fun then at the end of the day everybody remembers who is really to be taken seriously jesus the pilot episode is funny because its audacious and over the top redneckery but shortly thereafter it becomes a droll uninteresting show about this stupid family of fakes pretending to be beverly hillbilly like backwoodsmen new to fame and fortune because of a popular duck call having fun in their hemi trucks and shiny new carharrrrrrt attire i would have a real problem with the publicly bigotted statements if it weren't simply a pandering to an audience of morbidly obese neckertown walmartians and a false flag of 'any publicity even negative is publicity nonetheless' as a dubious means to perpetuate a well overplayed merchandising campaign at walmart that is as stupid as the people who buy into it i love the show and they have become so popular and i get a kick out of akll of them i love duck dynasty especially when they end the day with prayer the only show i had to walk away from was when they went frog hunting has sadie gotten her license to drive yet she is a beautiful young woman but keep an eye on her at all times boy out there are preditors i love to hear them talk keep all the little girls safe it will make you happy happy happy to watch this gang of good old boys from louisiana get up to tricks again while attempting to run their business good watching for the whole family great show it is fun and has great family values we stream these over and over on amazon prime highly recommend this show certain episodes are comic relief that's for sure the amazing thing is there are actually people in the world like these guys and that's scary knowing so if you want a good laugh it's worth watching\""
      ]
     },
     "execution_count": 43,
     "metadata": {},
     "output_type": "execute_result"
    }
   ],
   "source": [
    "test.iloc[largest_error, :][\"movieReviews\"]"
   ]
  }
 ],
 "metadata": {
  "kernelspec": {
   "display_name": "Python 3",
   "language": "python",
   "name": "python3"
  },
  "language_info": {
   "codemirror_mode": {
    "name": "ipython",
    "version": 3
   },
   "file_extension": ".py",
   "mimetype": "text/x-python",
   "name": "python",
   "nbconvert_exporter": "python",
   "pygments_lexer": "ipython3",
   "version": "3.6.3"
  }
 },
 "nbformat": 4,
 "nbformat_minor": 2
}
