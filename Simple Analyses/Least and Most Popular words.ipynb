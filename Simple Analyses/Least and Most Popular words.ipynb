{
 "cells": [
  {
   "cell_type": "code",
   "execution_count": 1,
   "metadata": {},
   "outputs": [],
   "source": [
    "import json\n",
    "from collections import Counter\n",
    "\n",
    "s = Counter(\" \".join([json.loads(line)[\"reviewText\"] for line in open(\"../data/reviews_Amazon_Instant_Video_5.json\", \"rt\")]).split(\" \"))"
   ]
  },
  {
   "cell_type": "code",
   "execution_count": 29,
   "metadata": {},
   "outputs": [
    {
     "name": "stdout",
     "output_type": "stream",
     "text": [
      "most common [('the', 163170), ('and', 97853), ('a', 84396), ('to', 82187), ('of', 76061), ('is', 62437), ('', 61650), ('I', 58951), ('in', 41445), ('that', 35378)]\n",
      "least common [('horror.However,', 1), ('grotesqueness,', 1), ('store.The', 1), ('first?', 1), ('Absolutely!', 1), ('head-stomping', 1), ('not(right', 1), ('ok).', 1), ('action/fear.', 1), (\"Salem's\", 1)]\n"
     ]
    }
   ],
   "source": [
    "print(\"most common\", s.most_common()[:10])\n",
    "print(\"least common\", s.most_common()[-10:])"
   ]
  },
  {
   "cell_type": "code",
   "execution_count": 30,
   "metadata": {},
   "outputs": [
    {
     "data": {
      "text/plain": [
       "184044"
      ]
     },
     "execution_count": 30,
     "metadata": {},
     "output_type": "execute_result"
    }
   ],
   "source": [
    "len(\"number of words\", s.keys)"
   ]
  },
  {
   "cell_type": "code",
   "execution_count": 3,
   "metadata": {},
   "outputs": [
    {
     "name": "stdout",
     "output_type": "stream",
     "text": [
      "most common [('line,', 152), ('dad', 152), ('balance', 152), ('famous', 152), ('Worth', 152), ('Nick', 152), ('part,', 152), ('success', 152), ('spot', 152), ('delivers', 151)]\n",
      "least common [('effort.The', 1), (\"Dinesh's\", 1), ('acclimating', 1), ('sanitized.', 1), (\"Gillespie's\", 1), ('indistinct,', 1), ('crowd-pleasing,', 1), ('cheering.', 1), ('&#8220;big', 1), ('leagues.&#8221;', 1)]\n"
     ]
    }
   ],
   "source": [
    "# remove a few pct in either direction from most common\n",
    "most_common = s.most_common()\n",
    "def trim_most_common(all_words, pct_to_trim): return all_words[int(len(most_common) * (pct_to_trim)):int(len(most_common) * (1 - pct_to_trim))]\n",
    "trimmed_most_common = trim_most_common(most_common, .01)\n",
    "# trimmed most common words\n",
    "print(\"most common\", trimmed_most_common[:10])\n",
    "print(\"least common\", trimmed_most_common[-10:])"
   ]
  },
  {
   "cell_type": "code",
   "execution_count": 28,
   "metadata": {},
   "outputs": [],
   "source": [
    "j = []\n",
    "for q in [[i[0]] * i[1] for i in trimmed_most_common[:10000]]:\n",
    "    for x in q:\n",
    "        j.append(x)\n",
    "with open(\"wordcloud.txt\", \"wt\") as txt:\n",
    "    for i in j:\n",
    "        txt.write(i)\n",
    "        txt.write(\" \")"
   ]
  }
 ],
 "metadata": {
  "kernelspec": {
   "display_name": "Python 3",
   "language": "python",
   "name": "python3"
  },
  "language_info": {
   "codemirror_mode": {
    "name": "ipython",
    "version": 3
   },
   "file_extension": ".py",
   "mimetype": "text/x-python",
   "name": "python",
   "nbconvert_exporter": "python",
   "pygments_lexer": "ipython3",
   "version": "3.6.3"
  }
 },
 "nbformat": 4,
 "nbformat_minor": 2
}
